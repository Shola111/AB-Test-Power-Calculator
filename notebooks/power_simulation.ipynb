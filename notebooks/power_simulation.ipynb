# A/B Test Power Simulation Notebook

This notebook simulates A/B tests to estimate power and visualize MDE and p-value distributions.
